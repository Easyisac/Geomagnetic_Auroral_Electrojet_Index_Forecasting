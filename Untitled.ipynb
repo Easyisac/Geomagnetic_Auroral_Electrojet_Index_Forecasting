{
 "cells": [
  {
   "cell_type": "code",
   "execution_count": 18,
   "id": "17145681",
   "metadata": {},
   "outputs": [],
   "source": [
    "import pandas as pd\n",
    "import math"
   ]
  },
  {
   "cell_type": "code",
   "execution_count": 22,
   "id": "3c25ef94",
   "metadata": {},
   "outputs": [],
   "source": [
    "def set_day(data):\n",
    "    date = data[['YEAR', 'DOY', 'Hour']]\n",
    "    return pd.to_datetime(date['YEAR'] * 100000 + date['DOY'] * 100 + date['Hour'], format='%Y%j%H')\n",
    "\n",
    "\n",
    "def clean_missing(data):\n",
    "    cols = data.columns.tolist()[4:-1]\n",
    "    for col in cols:\n",
    "        column = data[col]\n",
    "        if check_errors(column.max()):\n",
    "            masked = column.mask(column == column.max())\n",
    "            data[col] = masked.interpolate(limit_direction='both')\n",
    "    return data\n",
    "\n",
    "\n",
    "def check_errors(x):\n",
    "    length = int(math.log10(x)) + 1\n",
    "    y = (int(math.pow(10, length)) - 1)\n",
    "    return y <= x"
   ]
  },
  {
   "cell_type": "code",
   "execution_count": 42,
   "id": "cccbed46",
   "metadata": {
    "scrolled": true
   },
   "outputs": [
    {
     "name": "stdout",
     "output_type": "stream",
     "text": [
      "4     0.001644\n",
      "53    0.003425\n",
      "6     0.005318\n",
      "56    0.012382\n",
      "5     0.013535\n",
      "49    0.024600\n",
      "41    0.025766\n",
      "7     0.025954\n",
      "38    0.032334\n",
      "23    0.032783\n",
      "44    0.048835\n",
      "26    0.058729\n",
      "29    0.063604\n",
      "11    0.066323\n",
      "15    0.079269\n",
      "12    0.087256\n",
      "13    0.090745\n",
      "33    0.092957\n",
      "54    0.096588\n",
      "25    0.118426\n",
      "17    0.124369\n",
      "36    0.132584\n",
      "37    0.155804\n",
      "55    0.156676\n",
      "19    0.187591\n",
      "39    0.201827\n",
      "32    0.210865\n",
      "31    0.217815\n",
      "28    0.231538\n",
      "27    0.249217\n",
      "30    0.258350\n",
      "21    0.258423\n",
      "20    0.258594\n",
      "34    0.271123\n",
      "18    0.276262\n",
      "9     0.298606\n",
      "8     0.356982\n",
      "10    0.360703\n",
      "22    0.362960\n",
      "24    0.385889\n",
      "14    0.434736\n",
      "16    0.482724\n",
      "35    0.510161\n",
      "42    0.599328\n",
      "43    0.675103\n",
      "40    0.684791\n",
      "47    0.723979\n",
      "48    0.802212\n",
      "45    0.973719\n",
      "46    1.000000\n",
      "50         NaN\n",
      "51         NaN\n",
      "52         NaN\n",
      "Name: 46, dtype: float64\n"
     ]
    }
   ],
   "source": [
    "dataset = pd.read_csv('E:/Archivio/____Tesi/raw_data/omni_test.csv', header=None)\n",
    "#dataset['datetime'] = set_day(dataset)\n",
    "dataset = clean_missing(dataset)\n",
    "columns = dataset.columns.tolist()\n",
    "colsX = columns[4:]\n",
    "print(dataset[colsX].corr()[46].abs().sort_values())"
   ]
  },
  {
   "cell_type": "code",
   "execution_count": null,
   "id": "46f85491",
   "metadata": {},
   "outputs": [],
   "source": []
  }
 ],
 "metadata": {
  "kernelspec": {
   "display_name": "Python 3 (ipykernel)",
   "language": "python",
   "name": "python3"
  },
  "language_info": {
   "codemirror_mode": {
    "name": "ipython",
    "version": 3
   },
   "file_extension": ".py",
   "mimetype": "text/x-python",
   "name": "python",
   "nbconvert_exporter": "python",
   "pygments_lexer": "ipython3",
   "version": "3.9.10"
  }
 },
 "nbformat": 4,
 "nbformat_minor": 5
}
