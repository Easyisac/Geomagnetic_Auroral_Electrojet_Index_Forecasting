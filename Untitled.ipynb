{
 "cells": [
  {
   "cell_type": "code",
   "execution_count": 8,
   "id": "17145681",
   "metadata": {},
   "outputs": [],
   "source": [
    "import pandas as pd\n",
    "import math"
   ]
  },
  {
   "cell_type": "code",
   "execution_count": 9,
   "id": "a25f3634",
   "metadata": {},
   "outputs": [],
   "source": [
    "df = pd.DataFrame(columns=['Model', 'MSE', 'MAE', 'RMSE'])"
   ]
  },
  {
   "cell_type": "code",
   "execution_count": 10,
   "id": "848ef8aa",
   "metadata": {},
   "outputs": [],
   "source": [
    "t_row = pd.DataFrame({'Model':'Transformer' , 'MSE':15446.263 , 'MAE':81.18738 , 'RMSE':124.283}, index=[0])\n",
    "l_row = pd.DataFrame({'Model':'LSTM' , 'MSE':18004.9551 , 'MAE':88.2876 , 'RMSE':131.9609}, index=[0])"
   ]
  },
  {
   "cell_type": "code",
   "execution_count": 11,
   "id": "7c83ec0f",
   "metadata": {},
   "outputs": [],
   "source": [
    "df = pd.concat([l_row, df]).reset_index(drop=True)\n",
    "df = pd.concat([t_row, df]).reset_index(drop=True)"
   ]
  },
  {
   "cell_type": "code",
   "execution_count": 12,
   "id": "dcb6ca9f",
   "metadata": {},
   "outputs": [
    {
     "data": {
      "text/html": [
       "<div>\n",
       "<style scoped>\n",
       "    .dataframe tbody tr th:only-of-type {\n",
       "        vertical-align: middle;\n",
       "    }\n",
       "\n",
       "    .dataframe tbody tr th {\n",
       "        vertical-align: top;\n",
       "    }\n",
       "\n",
       "    .dataframe thead th {\n",
       "        text-align: right;\n",
       "    }\n",
       "</style>\n",
       "<table border=\"1\" class=\"dataframe\">\n",
       "  <thead>\n",
       "    <tr style=\"text-align: right;\">\n",
       "      <th></th>\n",
       "      <th>Model</th>\n",
       "      <th>MSE</th>\n",
       "      <th>MAE</th>\n",
       "      <th>RMSE</th>\n",
       "    </tr>\n",
       "  </thead>\n",
       "  <tbody>\n",
       "    <tr>\n",
       "      <th>0</th>\n",
       "      <td>Transformer</td>\n",
       "      <td>15446.2630</td>\n",
       "      <td>81.18738</td>\n",
       "      <td>124.2830</td>\n",
       "    </tr>\n",
       "    <tr>\n",
       "      <th>1</th>\n",
       "      <td>LSTM</td>\n",
       "      <td>18004.9551</td>\n",
       "      <td>88.28760</td>\n",
       "      <td>131.9609</td>\n",
       "    </tr>\n",
       "  </tbody>\n",
       "</table>\n",
       "</div>"
      ],
      "text/plain": [
       "         Model         MSE       MAE      RMSE\n",
       "0  Transformer  15446.2630  81.18738  124.2830\n",
       "1         LSTM  18004.9551  88.28760  131.9609"
      ]
     },
     "execution_count": 12,
     "metadata": {},
     "output_type": "execute_result"
    }
   ],
   "source": [
    "df"
   ]
  },
  {
   "cell_type": "code",
   "execution_count": 13,
   "id": "b0fd23c3",
   "metadata": {},
   "outputs": [],
   "source": [
    "import seaborn as sn\n",
    "import matplotlib.pyplot as plt"
   ]
  },
  {
   "cell_type": "code",
   "execution_count": 14,
   "id": "c528d235",
   "metadata": {},
   "outputs": [
    {
     "data": {
      "image/png": "[encoded data removed]",
      "text/plain": [
       "<Figure size 720x288 with 3 Axes>"
      ]
     },
     "metadata": {
      "needs_background": "light"
     },
     "output_type": "display_data"
    }
   ],
   "source": [
    "plt.figure(figsize=(10,4))\n",
    "plt.subplot(1,3,1)\n",
    "sn.barplot(data=df, y='MSE', x='Model')\n",
    "plt.xlabel('')\n",
    "plt.subplot(1,3,2)\n",
    "sn.barplot(data=df, y='MAE', x='Model')\n",
    "plt.xlabel('')\n",
    "plt.subplot(1,3,3)\n",
    "sn.barplot(data=df, y='RMSE', x='Model')\n",
    "plt.xlabel('')\n",
    "plt.tight_layout()"
   ]
  },
  {
   "cell_type": "code",
   "execution_count": null,
   "id": "33e4e8d7",
   "metadata": {},
   "outputs": [],
   "source": []
  }
 ],
 "metadata": {
  "kernelspec": {
   "display_name": "Python 3 (ipykernel)",
   "language": "python",
   "name": "python3"
  },
  "language_info": {
   "codemirror_mode": {
    "name": "ipython",
    "version": 3
   },
   "file_extension": ".py",
   "mimetype": "text/x-python",
   "name": "python",
   "nbconvert_exporter": "python",
   "pygments_lexer": "ipython3",
   "version": "3.9.10"
  }
 },
 "nbformat": 4,
 "nbformat_minor": 5
}
