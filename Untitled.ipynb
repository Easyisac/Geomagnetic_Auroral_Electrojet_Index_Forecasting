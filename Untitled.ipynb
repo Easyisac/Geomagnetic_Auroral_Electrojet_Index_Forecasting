{
 "cells": [
  {
   "cell_type": "code",
   "execution_count": 20,
   "id": "3710ed35",
   "metadata": {},
   "outputs": [],
   "source": [
    "import numpy as np"
   ]
  },
  {
   "cell_type": "code",
   "execution_count": 21,
   "id": "e6adfad1",
   "metadata": {},
   "outputs": [],
   "source": [
    "from numpy.lib.stride_tricks import sliding_window_view"
   ]
  },
  {
   "cell_type": "code",
   "execution_count": 27,
   "id": "2b307561",
   "metadata": {},
   "outputs": [],
   "source": [
    "X = np.arange(0, 1000)"
   ]
  },
  {
   "cell_type": "code",
   "execution_count": 28,
   "id": "5f9bd6f2",
   "metadata": {},
   "outputs": [],
   "source": [
    "X = X.reshape(50, 5, 4)"
   ]
  },
  {
   "cell_type": "code",
   "execution_count": 29,
   "id": "1cc9a33d",
   "metadata": {},
   "outputs": [],
   "source": [
    "X = sliding_window_view(X, (2, 5, 4))"
   ]
  },
  {
   "cell_type": "code",
   "execution_count": 30,
   "id": "e1816111",
   "metadata": {},
   "outputs": [
    {
     "data": {
      "text/plain": [
       "(49, 1, 1, 2, 5, 4)"
      ]
     },
     "execution_count": 30,
     "metadata": {},
     "output_type": "execute_result"
    }
   ],
   "source": [
    "X.shape"
   ]
  },
  {
   "cell_type": "code",
   "execution_count": 32,
   "id": "d940f6da",
   "metadata": {},
   "outputs": [
    {
     "data": {
      "text/plain": [
       "array([[[  0,   1,   2,   3],\n",
       "        [  4,   5,   6,   7],\n",
       "        [  8,   9,  10,  11],\n",
       "        ...,\n",
       "        [ 28,  29,  30,  31],\n",
       "        [ 32,  33,  34,  35],\n",
       "        [ 36,  37,  38,  39]],\n",
       "\n",
       "       [[ 20,  21,  22,  23],\n",
       "        [ 24,  25,  26,  27],\n",
       "        [ 28,  29,  30,  31],\n",
       "        ...,\n",
       "        [ 48,  49,  50,  51],\n",
       "        [ 52,  53,  54,  55],\n",
       "        [ 56,  57,  58,  59]],\n",
       "\n",
       "       [[ 40,  41,  42,  43],\n",
       "        [ 44,  45,  46,  47],\n",
       "        [ 48,  49,  50,  51],\n",
       "        ...,\n",
       "        [ 68,  69,  70,  71],\n",
       "        [ 72,  73,  74,  75],\n",
       "        [ 76,  77,  78,  79]],\n",
       "\n",
       "       ...,\n",
       "\n",
       "       [[920, 921, 922, 923],\n",
       "        [924, 925, 926, 927],\n",
       "        [928, 929, 930, 931],\n",
       "        ...,\n",
       "        [948, 949, 950, 951],\n",
       "        [952, 953, 954, 955],\n",
       "        [956, 957, 958, 959]],\n",
       "\n",
       "       [[940, 941, 942, 943],\n",
       "        [944, 945, 946, 947],\n",
       "        [948, 949, 950, 951],\n",
       "        ...,\n",
       "        [968, 969, 970, 971],\n",
       "        [972, 973, 974, 975],\n",
       "        [976, 977, 978, 979]],\n",
       "\n",
       "       [[960, 961, 962, 963],\n",
       "        [964, 965, 966, 967],\n",
       "        [968, 969, 970, 971],\n",
       "        ...,\n",
       "        [988, 989, 990, 991],\n",
       "        [992, 993, 994, 995],\n",
       "        [996, 997, 998, 999]]])"
      ]
     },
     "execution_count": 32,
     "metadata": {},
     "output_type": "execute_result"
    }
   ],
   "source": [
    "X.reshape(49, 10, 4)"
   ]
  },
  {
   "cell_type": "code",
   "execution_count": null,
   "id": "e5bf319f",
   "metadata": {},
   "outputs": [],
   "source": []
  }
 ],
 "metadata": {
  "kernelspec": {
   "display_name": "Python 3 (ipykernel)",
   "language": "python",
   "name": "python3"
  },
  "language_info": {
   "codemirror_mode": {
    "name": "ipython",
    "version": 3
   },
   "file_extension": ".py",
   "mimetype": "text/x-python",
   "name": "python",
   "nbconvert_exporter": "python",
   "pygments_lexer": "ipython3",
   "version": "3.9.10"
  }
 },
 "nbformat": 4,
 "nbformat_minor": 5
}
