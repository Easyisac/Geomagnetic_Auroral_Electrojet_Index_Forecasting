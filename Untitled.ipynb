{
 "cells": [
  {
   "cell_type": "code",
   "execution_count": 5,
   "id": "3710ed35",
   "metadata": {},
   "outputs": [],
   "source": [
    "import numpy as np\n",
    "import dask.array as da\n",
    "lookforward=1\n",
    "lookback=100"
   ]
  },
  {
   "cell_type": "code",
   "execution_count": 6,
   "id": "e5bf319f",
   "metadata": {},
   "outputs": [],
   "source": [
    "x = da.ones((864000, 512, 512))"
   ]
  },
  {
   "cell_type": "code",
   "execution_count": 7,
   "id": "899ac4ea",
   "metadata": {},
   "outputs": [],
   "source": [
    "x = x.reshape(x.shape[0] // 10, 10, x.shape[1], x.shape[2])"
   ]
  },
  {
   "cell_type": "code",
   "execution_count": 8,
   "id": "e98249e7",
   "metadata": {},
   "outputs": [],
   "source": [
    "res = da.lib.stride_tricks.sliding_window_view(x[:-lookforward], (lookback, x.shape[1], x.shape[2], x.shape[3]))"
   ]
  },
  {
   "cell_type": "code",
   "execution_count": 9,
   "id": "6de77f3f",
   "metadata": {},
   "outputs": [],
   "source": [
    "res = res.reshape(res.shape[0], res.shape[4]*res.shape[5], res.shape[6], res.shape[7])"
   ]
  },
  {
   "cell_type": "code",
   "execution_count": null,
   "id": "a1854857",
   "metadata": {},
   "outputs": [],
   "source": [
    "res[1:11].compute()"
   ]
  },
  {
   "cell_type": "code",
   "execution_count": null,
   "id": "96e984de",
   "metadata": {},
   "outputs": [],
   "source": []
  }
 ],
 "metadata": {
  "kernelspec": {
   "display_name": "Python 3 (ipykernel)",
   "language": "python",
   "name": "python3"
  },
  "language_info": {
   "codemirror_mode": {
    "name": "ipython",
    "version": 3
   },
   "file_extension": ".py",
   "mimetype": "text/x-python",
   "name": "python",
   "nbconvert_exporter": "python",
   "pygments_lexer": "ipython3",
   "version": "3.9.10"
  }
 },
 "nbformat": 4,
 "nbformat_minor": 5
}
